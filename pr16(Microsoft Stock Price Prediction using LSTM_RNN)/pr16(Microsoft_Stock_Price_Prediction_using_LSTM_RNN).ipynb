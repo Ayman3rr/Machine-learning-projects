{
  "nbformat": 4,
  "nbformat_minor": 0,
  "metadata": {
    "colab": {
      "provenance": [],
      "gpuType": "T4"
    },
    "kernelspec": {
      "name": "python3",
      "display_name": "Python 3"
    },
    "language_info": {
      "name": "python"
    },
    "accelerator": "GPU"
  },
  "cells": [
    {
      "cell_type": "markdown",
      "source": [
        "`About Dataset`\n",
        "Information Related To The Dataset:\n",
        "\n",
        "1️⃣Date: This column represents the calender date when the data about the stock is recorded.\n",
        "\n",
        "2️⃣Open: This column represents the first recorded price of the stock for a trading session.\n",
        "\n",
        "3️⃣High: The high price represents the highest traded price of the stock during a given trading session. It reflects the peak value that the stock reached during the day.\n",
        "\n",
        "4️⃣Low: The low price is the lowest traded price of the stock during a specific trading session. It indicates the minimum value that the stock reached during the day.\n",
        "\n",
        "5️⃣Close: The closing price is the last traded price of the stock at the end of a trading session. It reflects the final value at which the stock was traded before the market closes.\n",
        "\n",
        "6️⃣Adj Close(Adjusted Close): The adjusted closing price accounts for corporate actions, such as dividends, stock splits, and new stock offerings, that may affect the stock's price but are not directly related to its performance. The adjusted close is often used to assess the stock's performance over time.\n",
        "\n",
        "7️⃣Volume: Volume represents the total number of shares traded during a specific time period. It gives an indication of the level of market activity and liquidity for that stock. High volume often suggests increased investor interest, while low volume may indicate less active trading.\n",
        "\n",
        "A financial dataset with columns such as Date, Open, High, Low, Close, Adj Close, and Volume information is crucial for technical analysis, trend identification, and understanding the historical performance of a stock.\n",
        "\n",
        "Feel free to use this dataset for your analyses, visualisations, and research. Your feedback is appreciated!"
      ],
      "metadata": {
        "id": "cxO-J6wDx3E7"
      }
    },
    {
      "cell_type": "code",
      "source": [
        "import numpy as np\n",
        "import pandas as pd\n",
        "import pandas_datareader as web\n",
        "import math\n",
        "import matplotlib.pyplot as plt\n",
        "from sklearn.preprocessing import StandardScaler\n",
        "import tensorflow as tf\n",
        "from keras.models import Sequential\n",
        "from keras.layers import Dense, LSTM\n",
        "plt.style.use('fivethirtyeight')\n",
        "\n",
        "import warnings\n",
        "\n",
        "warnings.filterwarnings('ignore')"
      ],
      "metadata": {
        "id": "aRcqlK_hkEKo"
      },
      "execution_count": 1,
      "outputs": []
    },
    {
      "cell_type": "code",
      "source": [
        "df=pd.read_csv(\"/content/MSFT.csv\")"
      ],
      "metadata": {
        "id": "nVnuktJNm5Vw"
      },
      "execution_count": 2,
      "outputs": []
    },
    {
      "cell_type": "code",
      "source": [
        "df.head()"
      ],
      "metadata": {
        "colab": {
          "base_uri": "https://localhost:8080/",
          "height": 206
        },
        "id": "drFtUan5nDfl",
        "outputId": "dbc61fe8-919a-4dec-8405-e62a6c4aab08"
      },
      "execution_count": 3,
      "outputs": [
        {
          "output_type": "execute_result",
          "data": {
            "text/plain": [
              "         Date      Open      High       Low     Close  Adj Close      Volume\n",
              "0  1986-03-13  0.088542  0.101563  0.088542  0.097222   0.061434  1031788800\n",
              "1  1986-03-14  0.097222  0.102431  0.097222  0.100694   0.063628   308160000\n",
              "2  1986-03-17  0.100694  0.103299  0.100694  0.102431   0.064725   133171200\n",
              "3  1986-03-18  0.102431  0.103299  0.098958  0.099826   0.063079    67766400\n",
              "4  1986-03-19  0.099826  0.100694  0.097222  0.098090   0.061982    47894400"
            ],
            "text/html": [
              "\n",
              "  <div id=\"df-17c15364-50bf-489b-ba03-b5e501cb27a3\" class=\"colab-df-container\">\n",
              "    <div>\n",
              "<style scoped>\n",
              "    .dataframe tbody tr th:only-of-type {\n",
              "        vertical-align: middle;\n",
              "    }\n",
              "\n",
              "    .dataframe tbody tr th {\n",
              "        vertical-align: top;\n",
              "    }\n",
              "\n",
              "    .dataframe thead th {\n",
              "        text-align: right;\n",
              "    }\n",
              "</style>\n",
              "<table border=\"1\" class=\"dataframe\">\n",
              "  <thead>\n",
              "    <tr style=\"text-align: right;\">\n",
              "      <th></th>\n",
              "      <th>Date</th>\n",
              "      <th>Open</th>\n",
              "      <th>High</th>\n",
              "      <th>Low</th>\n",
              "      <th>Close</th>\n",
              "      <th>Adj Close</th>\n",
              "      <th>Volume</th>\n",
              "    </tr>\n",
              "  </thead>\n",
              "  <tbody>\n",
              "    <tr>\n",
              "      <th>0</th>\n",
              "      <td>1986-03-13</td>\n",
              "      <td>0.088542</td>\n",
              "      <td>0.101563</td>\n",
              "      <td>0.088542</td>\n",
              "      <td>0.097222</td>\n",
              "      <td>0.061434</td>\n",
              "      <td>1031788800</td>\n",
              "    </tr>\n",
              "    <tr>\n",
              "      <th>1</th>\n",
              "      <td>1986-03-14</td>\n",
              "      <td>0.097222</td>\n",
              "      <td>0.102431</td>\n",
              "      <td>0.097222</td>\n",
              "      <td>0.100694</td>\n",
              "      <td>0.063628</td>\n",
              "      <td>308160000</td>\n",
              "    </tr>\n",
              "    <tr>\n",
              "      <th>2</th>\n",
              "      <td>1986-03-17</td>\n",
              "      <td>0.100694</td>\n",
              "      <td>0.103299</td>\n",
              "      <td>0.100694</td>\n",
              "      <td>0.102431</td>\n",
              "      <td>0.064725</td>\n",
              "      <td>133171200</td>\n",
              "    </tr>\n",
              "    <tr>\n",
              "      <th>3</th>\n",
              "      <td>1986-03-18</td>\n",
              "      <td>0.102431</td>\n",
              "      <td>0.103299</td>\n",
              "      <td>0.098958</td>\n",
              "      <td>0.099826</td>\n",
              "      <td>0.063079</td>\n",
              "      <td>67766400</td>\n",
              "    </tr>\n",
              "    <tr>\n",
              "      <th>4</th>\n",
              "      <td>1986-03-19</td>\n",
              "      <td>0.099826</td>\n",
              "      <td>0.100694</td>\n",
              "      <td>0.097222</td>\n",
              "      <td>0.098090</td>\n",
              "      <td>0.061982</td>\n",
              "      <td>47894400</td>\n",
              "    </tr>\n",
              "  </tbody>\n",
              "</table>\n",
              "</div>\n",
              "    <div class=\"colab-df-buttons\">\n",
              "\n",
              "  <div class=\"colab-df-container\">\n",
              "    <button class=\"colab-df-convert\" onclick=\"convertToInteractive('df-17c15364-50bf-489b-ba03-b5e501cb27a3')\"\n",
              "            title=\"Convert this dataframe to an interactive table.\"\n",
              "            style=\"display:none;\">\n",
              "\n",
              "  <svg xmlns=\"http://www.w3.org/2000/svg\" height=\"24px\" viewBox=\"0 -960 960 960\">\n",
              "    <path d=\"M120-120v-720h720v720H120Zm60-500h600v-160H180v160Zm220 220h160v-160H400v160Zm0 220h160v-160H400v160ZM180-400h160v-160H180v160Zm440 0h160v-160H620v160ZM180-180h160v-160H180v160Zm440 0h160v-160H620v160Z\"/>\n",
              "  </svg>\n",
              "    </button>\n",
              "\n",
              "  <style>\n",
              "    .colab-df-container {\n",
              "      display:flex;\n",
              "      gap: 12px;\n",
              "    }\n",
              "\n",
              "    .colab-df-convert {\n",
              "      background-color: #E8F0FE;\n",
              "      border: none;\n",
              "      border-radius: 50%;\n",
              "      cursor: pointer;\n",
              "      display: none;\n",
              "      fill: #1967D2;\n",
              "      height: 32px;\n",
              "      padding: 0 0 0 0;\n",
              "      width: 32px;\n",
              "    }\n",
              "\n",
              "    .colab-df-convert:hover {\n",
              "      background-color: #E2EBFA;\n",
              "      box-shadow: 0px 1px 2px rgba(60, 64, 67, 0.3), 0px 1px 3px 1px rgba(60, 64, 67, 0.15);\n",
              "      fill: #174EA6;\n",
              "    }\n",
              "\n",
              "    .colab-df-buttons div {\n",
              "      margin-bottom: 4px;\n",
              "    }\n",
              "\n",
              "    [theme=dark] .colab-df-convert {\n",
              "      background-color: #3B4455;\n",
              "      fill: #D2E3FC;\n",
              "    }\n",
              "\n",
              "    [theme=dark] .colab-df-convert:hover {\n",
              "      background-color: #434B5C;\n",
              "      box-shadow: 0px 1px 3px 1px rgba(0, 0, 0, 0.15);\n",
              "      filter: drop-shadow(0px 1px 2px rgba(0, 0, 0, 0.3));\n",
              "      fill: #FFFFFF;\n",
              "    }\n",
              "  </style>\n",
              "\n",
              "    <script>\n",
              "      const buttonEl =\n",
              "        document.querySelector('#df-17c15364-50bf-489b-ba03-b5e501cb27a3 button.colab-df-convert');\n",
              "      buttonEl.style.display =\n",
              "        google.colab.kernel.accessAllowed ? 'block' : 'none';\n",
              "\n",
              "      async function convertToInteractive(key) {\n",
              "        const element = document.querySelector('#df-17c15364-50bf-489b-ba03-b5e501cb27a3');\n",
              "        const dataTable =\n",
              "          await google.colab.kernel.invokeFunction('convertToInteractive',\n",
              "                                                    [key], {});\n",
              "        if (!dataTable) return;\n",
              "\n",
              "        const docLinkHtml = 'Like what you see? Visit the ' +\n",
              "          '<a target=\"_blank\" href=https://colab.research.google.com/notebooks/data_table.ipynb>data table notebook</a>'\n",
              "          + ' to learn more about interactive tables.';\n",
              "        element.innerHTML = '';\n",
              "        dataTable['output_type'] = 'display_data';\n",
              "        await google.colab.output.renderOutput(dataTable, element);\n",
              "        const docLink = document.createElement('div');\n",
              "        docLink.innerHTML = docLinkHtml;\n",
              "        element.appendChild(docLink);\n",
              "      }\n",
              "    </script>\n",
              "  </div>\n",
              "\n",
              "\n",
              "<div id=\"df-deb2b731-aeb7-4428-ba2c-72de3c458c37\">\n",
              "  <button class=\"colab-df-quickchart\" onclick=\"quickchart('df-deb2b731-aeb7-4428-ba2c-72de3c458c37')\"\n",
              "            title=\"Suggest charts\"\n",
              "            style=\"display:none;\">\n",
              "\n",
              "<svg xmlns=\"http://www.w3.org/2000/svg\" height=\"24px\"viewBox=\"0 0 24 24\"\n",
              "     width=\"24px\">\n",
              "    <g>\n",
              "        <path d=\"M19 3H5c-1.1 0-2 .9-2 2v14c0 1.1.9 2 2 2h14c1.1 0 2-.9 2-2V5c0-1.1-.9-2-2-2zM9 17H7v-7h2v7zm4 0h-2V7h2v10zm4 0h-2v-4h2v4z\"/>\n",
              "    </g>\n",
              "</svg>\n",
              "  </button>\n",
              "\n",
              "<style>\n",
              "  .colab-df-quickchart {\n",
              "      --bg-color: #E8F0FE;\n",
              "      --fill-color: #1967D2;\n",
              "      --hover-bg-color: #E2EBFA;\n",
              "      --hover-fill-color: #174EA6;\n",
              "      --disabled-fill-color: #AAA;\n",
              "      --disabled-bg-color: #DDD;\n",
              "  }\n",
              "\n",
              "  [theme=dark] .colab-df-quickchart {\n",
              "      --bg-color: #3B4455;\n",
              "      --fill-color: #D2E3FC;\n",
              "      --hover-bg-color: #434B5C;\n",
              "      --hover-fill-color: #FFFFFF;\n",
              "      --disabled-bg-color: #3B4455;\n",
              "      --disabled-fill-color: #666;\n",
              "  }\n",
              "\n",
              "  .colab-df-quickchart {\n",
              "    background-color: var(--bg-color);\n",
              "    border: none;\n",
              "    border-radius: 50%;\n",
              "    cursor: pointer;\n",
              "    display: none;\n",
              "    fill: var(--fill-color);\n",
              "    height: 32px;\n",
              "    padding: 0;\n",
              "    width: 32px;\n",
              "  }\n",
              "\n",
              "  .colab-df-quickchart:hover {\n",
              "    background-color: var(--hover-bg-color);\n",
              "    box-shadow: 0 1px 2px rgba(60, 64, 67, 0.3), 0 1px 3px 1px rgba(60, 64, 67, 0.15);\n",
              "    fill: var(--button-hover-fill-color);\n",
              "  }\n",
              "\n",
              "  .colab-df-quickchart-complete:disabled,\n",
              "  .colab-df-quickchart-complete:disabled:hover {\n",
              "    background-color: var(--disabled-bg-color);\n",
              "    fill: var(--disabled-fill-color);\n",
              "    box-shadow: none;\n",
              "  }\n",
              "\n",
              "  .colab-df-spinner {\n",
              "    border: 2px solid var(--fill-color);\n",
              "    border-color: transparent;\n",
              "    border-bottom-color: var(--fill-color);\n",
              "    animation:\n",
              "      spin 1s steps(1) infinite;\n",
              "  }\n",
              "\n",
              "  @keyframes spin {\n",
              "    0% {\n",
              "      border-color: transparent;\n",
              "      border-bottom-color: var(--fill-color);\n",
              "      border-left-color: var(--fill-color);\n",
              "    }\n",
              "    20% {\n",
              "      border-color: transparent;\n",
              "      border-left-color: var(--fill-color);\n",
              "      border-top-color: var(--fill-color);\n",
              "    }\n",
              "    30% {\n",
              "      border-color: transparent;\n",
              "      border-left-color: var(--fill-color);\n",
              "      border-top-color: var(--fill-color);\n",
              "      border-right-color: var(--fill-color);\n",
              "    }\n",
              "    40% {\n",
              "      border-color: transparent;\n",
              "      border-right-color: var(--fill-color);\n",
              "      border-top-color: var(--fill-color);\n",
              "    }\n",
              "    60% {\n",
              "      border-color: transparent;\n",
              "      border-right-color: var(--fill-color);\n",
              "    }\n",
              "    80% {\n",
              "      border-color: transparent;\n",
              "      border-right-color: var(--fill-color);\n",
              "      border-bottom-color: var(--fill-color);\n",
              "    }\n",
              "    90% {\n",
              "      border-color: transparent;\n",
              "      border-bottom-color: var(--fill-color);\n",
              "    }\n",
              "  }\n",
              "</style>\n",
              "\n",
              "  <script>\n",
              "    async function quickchart(key) {\n",
              "      const quickchartButtonEl =\n",
              "        document.querySelector('#' + key + ' button');\n",
              "      quickchartButtonEl.disabled = true;  // To prevent multiple clicks.\n",
              "      quickchartButtonEl.classList.add('colab-df-spinner');\n",
              "      try {\n",
              "        const charts = await google.colab.kernel.invokeFunction(\n",
              "            'suggestCharts', [key], {});\n",
              "      } catch (error) {\n",
              "        console.error('Error during call to suggestCharts:', error);\n",
              "      }\n",
              "      quickchartButtonEl.classList.remove('colab-df-spinner');\n",
              "      quickchartButtonEl.classList.add('colab-df-quickchart-complete');\n",
              "    }\n",
              "    (() => {\n",
              "      let quickchartButtonEl =\n",
              "        document.querySelector('#df-deb2b731-aeb7-4428-ba2c-72de3c458c37 button');\n",
              "      quickchartButtonEl.style.display =\n",
              "        google.colab.kernel.accessAllowed ? 'block' : 'none';\n",
              "    })();\n",
              "  </script>\n",
              "</div>\n",
              "\n",
              "    </div>\n",
              "  </div>\n"
            ],
            "application/vnd.google.colaboratory.intrinsic+json": {
              "type": "dataframe",
              "variable_name": "df",
              "repr_error": "'str' object has no attribute 'empty'"
            }
          },
          "metadata": {},
          "execution_count": 3
        }
      ]
    },
    {
      "cell_type": "code",
      "source": [
        "df.tail()"
      ],
      "metadata": {
        "colab": {
          "base_uri": "https://localhost:8080/",
          "height": 206
        },
        "id": "SDHeQE5mnF9l",
        "outputId": "84f9f910-0d60-46fa-fa55-655f2fb554ea"
      },
      "execution_count": 4,
      "outputs": [
        {
          "output_type": "execute_result",
          "data": {
            "text/plain": [
              "            Date        Open        High         Low       Close   Adj Close  \\\n",
              "9078  2022-03-18  295.369995  301.000000  292.730011  300.429993  300.429993   \n",
              "9079  2022-03-21  298.890015  300.140015  294.899994  299.160004  299.160004   \n",
              "9080  2022-03-22  299.799988  305.000000  298.769989  304.059998  304.059998   \n",
              "9081  2022-03-23  300.510010  303.230011  297.720001  299.489990  299.489990   \n",
              "9082  2022-03-24  299.140015  304.200012  298.320007  304.100006  304.100006   \n",
              "\n",
              "        Volume  \n",
              "9078  43317000  \n",
              "9079  28351200  \n",
              "9080  27599700  \n",
              "9081  25715400  \n",
              "9082  24446900  "
            ],
            "text/html": [
              "\n",
              "  <div id=\"df-520825d9-845a-480f-941f-bfbd333b6d3f\" class=\"colab-df-container\">\n",
              "    <div>\n",
              "<style scoped>\n",
              "    .dataframe tbody tr th:only-of-type {\n",
              "        vertical-align: middle;\n",
              "    }\n",
              "\n",
              "    .dataframe tbody tr th {\n",
              "        vertical-align: top;\n",
              "    }\n",
              "\n",
              "    .dataframe thead th {\n",
              "        text-align: right;\n",
              "    }\n",
              "</style>\n",
              "<table border=\"1\" class=\"dataframe\">\n",
              "  <thead>\n",
              "    <tr style=\"text-align: right;\">\n",
              "      <th></th>\n",
              "      <th>Date</th>\n",
              "      <th>Open</th>\n",
              "      <th>High</th>\n",
              "      <th>Low</th>\n",
              "      <th>Close</th>\n",
              "      <th>Adj Close</th>\n",
              "      <th>Volume</th>\n",
              "    </tr>\n",
              "  </thead>\n",
              "  <tbody>\n",
              "    <tr>\n",
              "      <th>9078</th>\n",
              "      <td>2022-03-18</td>\n",
              "      <td>295.369995</td>\n",
              "      <td>301.000000</td>\n",
              "      <td>292.730011</td>\n",
              "      <td>300.429993</td>\n",
              "      <td>300.429993</td>\n",
              "      <td>43317000</td>\n",
              "    </tr>\n",
              "    <tr>\n",
              "      <th>9079</th>\n",
              "      <td>2022-03-21</td>\n",
              "      <td>298.890015</td>\n",
              "      <td>300.140015</td>\n",
              "      <td>294.899994</td>\n",
              "      <td>299.160004</td>\n",
              "      <td>299.160004</td>\n",
              "      <td>28351200</td>\n",
              "    </tr>\n",
              "    <tr>\n",
              "      <th>9080</th>\n",
              "      <td>2022-03-22</td>\n",
              "      <td>299.799988</td>\n",
              "      <td>305.000000</td>\n",
              "      <td>298.769989</td>\n",
              "      <td>304.059998</td>\n",
              "      <td>304.059998</td>\n",
              "      <td>27599700</td>\n",
              "    </tr>\n",
              "    <tr>\n",
              "      <th>9081</th>\n",
              "      <td>2022-03-23</td>\n",
              "      <td>300.510010</td>\n",
              "      <td>303.230011</td>\n",
              "      <td>297.720001</td>\n",
              "      <td>299.489990</td>\n",
              "      <td>299.489990</td>\n",
              "      <td>25715400</td>\n",
              "    </tr>\n",
              "    <tr>\n",
              "      <th>9082</th>\n",
              "      <td>2022-03-24</td>\n",
              "      <td>299.140015</td>\n",
              "      <td>304.200012</td>\n",
              "      <td>298.320007</td>\n",
              "      <td>304.100006</td>\n",
              "      <td>304.100006</td>\n",
              "      <td>24446900</td>\n",
              "    </tr>\n",
              "  </tbody>\n",
              "</table>\n",
              "</div>\n",
              "    <div class=\"colab-df-buttons\">\n",
              "\n",
              "  <div class=\"colab-df-container\">\n",
              "    <button class=\"colab-df-convert\" onclick=\"convertToInteractive('df-520825d9-845a-480f-941f-bfbd333b6d3f')\"\n",
              "            title=\"Convert this dataframe to an interactive table.\"\n",
              "            style=\"display:none;\">\n",
              "\n",
              "  <svg xmlns=\"http://www.w3.org/2000/svg\" height=\"24px\" viewBox=\"0 -960 960 960\">\n",
              "    <path d=\"M120-120v-720h720v720H120Zm60-500h600v-160H180v160Zm220 220h160v-160H400v160Zm0 220h160v-160H400v160ZM180-400h160v-160H180v160Zm440 0h160v-160H620v160ZM180-180h160v-160H180v160Zm440 0h160v-160H620v160Z\"/>\n",
              "  </svg>\n",
              "    </button>\n",
              "\n",
              "  <style>\n",
              "    .colab-df-container {\n",
              "      display:flex;\n",
              "      gap: 12px;\n",
              "    }\n",
              "\n",
              "    .colab-df-convert {\n",
              "      background-color: #E8F0FE;\n",
              "      border: none;\n",
              "      border-radius: 50%;\n",
              "      cursor: pointer;\n",
              "      display: none;\n",
              "      fill: #1967D2;\n",
              "      height: 32px;\n",
              "      padding: 0 0 0 0;\n",
              "      width: 32px;\n",
              "    }\n",
              "\n",
              "    .colab-df-convert:hover {\n",
              "      background-color: #E2EBFA;\n",
              "      box-shadow: 0px 1px 2px rgba(60, 64, 67, 0.3), 0px 1px 3px 1px rgba(60, 64, 67, 0.15);\n",
              "      fill: #174EA6;\n",
              "    }\n",
              "\n",
              "    .colab-df-buttons div {\n",
              "      margin-bottom: 4px;\n",
              "    }\n",
              "\n",
              "    [theme=dark] .colab-df-convert {\n",
              "      background-color: #3B4455;\n",
              "      fill: #D2E3FC;\n",
              "    }\n",
              "\n",
              "    [theme=dark] .colab-df-convert:hover {\n",
              "      background-color: #434B5C;\n",
              "      box-shadow: 0px 1px 3px 1px rgba(0, 0, 0, 0.15);\n",
              "      filter: drop-shadow(0px 1px 2px rgba(0, 0, 0, 0.3));\n",
              "      fill: #FFFFFF;\n",
              "    }\n",
              "  </style>\n",
              "\n",
              "    <script>\n",
              "      const buttonEl =\n",
              "        document.querySelector('#df-520825d9-845a-480f-941f-bfbd333b6d3f button.colab-df-convert');\n",
              "      buttonEl.style.display =\n",
              "        google.colab.kernel.accessAllowed ? 'block' : 'none';\n",
              "\n",
              "      async function convertToInteractive(key) {\n",
              "        const element = document.querySelector('#df-520825d9-845a-480f-941f-bfbd333b6d3f');\n",
              "        const dataTable =\n",
              "          await google.colab.kernel.invokeFunction('convertToInteractive',\n",
              "                                                    [key], {});\n",
              "        if (!dataTable) return;\n",
              "\n",
              "        const docLinkHtml = 'Like what you see? Visit the ' +\n",
              "          '<a target=\"_blank\" href=https://colab.research.google.com/notebooks/data_table.ipynb>data table notebook</a>'\n",
              "          + ' to learn more about interactive tables.';\n",
              "        element.innerHTML = '';\n",
              "        dataTable['output_type'] = 'display_data';\n",
              "        await google.colab.output.renderOutput(dataTable, element);\n",
              "        const docLink = document.createElement('div');\n",
              "        docLink.innerHTML = docLinkHtml;\n",
              "        element.appendChild(docLink);\n",
              "      }\n",
              "    </script>\n",
              "  </div>\n",
              "\n",
              "\n",
              "<div id=\"df-83ebd1c8-30a2-4316-a0b9-d98633b54734\">\n",
              "  <button class=\"colab-df-quickchart\" onclick=\"quickchart('df-83ebd1c8-30a2-4316-a0b9-d98633b54734')\"\n",
              "            title=\"Suggest charts\"\n",
              "            style=\"display:none;\">\n",
              "\n",
              "<svg xmlns=\"http://www.w3.org/2000/svg\" height=\"24px\"viewBox=\"0 0 24 24\"\n",
              "     width=\"24px\">\n",
              "    <g>\n",
              "        <path d=\"M19 3H5c-1.1 0-2 .9-2 2v14c0 1.1.9 2 2 2h14c1.1 0 2-.9 2-2V5c0-1.1-.9-2-2-2zM9 17H7v-7h2v7zm4 0h-2V7h2v10zm4 0h-2v-4h2v4z\"/>\n",
              "    </g>\n",
              "</svg>\n",
              "  </button>\n",
              "\n",
              "<style>\n",
              "  .colab-df-quickchart {\n",
              "      --bg-color: #E8F0FE;\n",
              "      --fill-color: #1967D2;\n",
              "      --hover-bg-color: #E2EBFA;\n",
              "      --hover-fill-color: #174EA6;\n",
              "      --disabled-fill-color: #AAA;\n",
              "      --disabled-bg-color: #DDD;\n",
              "  }\n",
              "\n",
              "  [theme=dark] .colab-df-quickchart {\n",
              "      --bg-color: #3B4455;\n",
              "      --fill-color: #D2E3FC;\n",
              "      --hover-bg-color: #434B5C;\n",
              "      --hover-fill-color: #FFFFFF;\n",
              "      --disabled-bg-color: #3B4455;\n",
              "      --disabled-fill-color: #666;\n",
              "  }\n",
              "\n",
              "  .colab-df-quickchart {\n",
              "    background-color: var(--bg-color);\n",
              "    border: none;\n",
              "    border-radius: 50%;\n",
              "    cursor: pointer;\n",
              "    display: none;\n",
              "    fill: var(--fill-color);\n",
              "    height: 32px;\n",
              "    padding: 0;\n",
              "    width: 32px;\n",
              "  }\n",
              "\n",
              "  .colab-df-quickchart:hover {\n",
              "    background-color: var(--hover-bg-color);\n",
              "    box-shadow: 0 1px 2px rgba(60, 64, 67, 0.3), 0 1px 3px 1px rgba(60, 64, 67, 0.15);\n",
              "    fill: var(--button-hover-fill-color);\n",
              "  }\n",
              "\n",
              "  .colab-df-quickchart-complete:disabled,\n",
              "  .colab-df-quickchart-complete:disabled:hover {\n",
              "    background-color: var(--disabled-bg-color);\n",
              "    fill: var(--disabled-fill-color);\n",
              "    box-shadow: none;\n",
              "  }\n",
              "\n",
              "  .colab-df-spinner {\n",
              "    border: 2px solid var(--fill-color);\n",
              "    border-color: transparent;\n",
              "    border-bottom-color: var(--fill-color);\n",
              "    animation:\n",
              "      spin 1s steps(1) infinite;\n",
              "  }\n",
              "\n",
              "  @keyframes spin {\n",
              "    0% {\n",
              "      border-color: transparent;\n",
              "      border-bottom-color: var(--fill-color);\n",
              "      border-left-color: var(--fill-color);\n",
              "    }\n",
              "    20% {\n",
              "      border-color: transparent;\n",
              "      border-left-color: var(--fill-color);\n",
              "      border-top-color: var(--fill-color);\n",
              "    }\n",
              "    30% {\n",
              "      border-color: transparent;\n",
              "      border-left-color: var(--fill-color);\n",
              "      border-top-color: var(--fill-color);\n",
              "      border-right-color: var(--fill-color);\n",
              "    }\n",
              "    40% {\n",
              "      border-color: transparent;\n",
              "      border-right-color: var(--fill-color);\n",
              "      border-top-color: var(--fill-color);\n",
              "    }\n",
              "    60% {\n",
              "      border-color: transparent;\n",
              "      border-right-color: var(--fill-color);\n",
              "    }\n",
              "    80% {\n",
              "      border-color: transparent;\n",
              "      border-right-color: var(--fill-color);\n",
              "      border-bottom-color: var(--fill-color);\n",
              "    }\n",
              "    90% {\n",
              "      border-color: transparent;\n",
              "      border-bottom-color: var(--fill-color);\n",
              "    }\n",
              "  }\n",
              "</style>\n",
              "\n",
              "  <script>\n",
              "    async function quickchart(key) {\n",
              "      const quickchartButtonEl =\n",
              "        document.querySelector('#' + key + ' button');\n",
              "      quickchartButtonEl.disabled = true;  // To prevent multiple clicks.\n",
              "      quickchartButtonEl.classList.add('colab-df-spinner');\n",
              "      try {\n",
              "        const charts = await google.colab.kernel.invokeFunction(\n",
              "            'suggestCharts', [key], {});\n",
              "      } catch (error) {\n",
              "        console.error('Error during call to suggestCharts:', error);\n",
              "      }\n",
              "      quickchartButtonEl.classList.remove('colab-df-spinner');\n",
              "      quickchartButtonEl.classList.add('colab-df-quickchart-complete');\n",
              "    }\n",
              "    (() => {\n",
              "      let quickchartButtonEl =\n",
              "        document.querySelector('#df-83ebd1c8-30a2-4316-a0b9-d98633b54734 button');\n",
              "      quickchartButtonEl.style.display =\n",
              "        google.colab.kernel.accessAllowed ? 'block' : 'none';\n",
              "    })();\n",
              "  </script>\n",
              "</div>\n",
              "\n",
              "    </div>\n",
              "  </div>\n"
            ],
            "application/vnd.google.colaboratory.intrinsic+json": {
              "type": "dataframe",
              "repr_error": "'str' object has no attribute 'empty'"
            }
          },
          "metadata": {},
          "execution_count": 4
        }
      ]
    },
    {
      "cell_type": "code",
      "source": [
        "df.isnull().sum()"
      ],
      "metadata": {
        "colab": {
          "base_uri": "https://localhost:8080/"
        },
        "id": "DLCzPXG_nIK-",
        "outputId": "b22e48ab-a58c-4837-a863-afb26c5e8a92"
      },
      "execution_count": 5,
      "outputs": [
        {
          "output_type": "execute_result",
          "data": {
            "text/plain": [
              "Date         0\n",
              "Open         0\n",
              "High         0\n",
              "Low          0\n",
              "Close        0\n",
              "Adj Close    0\n",
              "Volume       0\n",
              "dtype: int64"
            ]
          },
          "metadata": {},
          "execution_count": 5
        }
      ]
    },
    {
      "cell_type": "code",
      "source": [
        "df.describe()"
      ],
      "metadata": {
        "colab": {
          "base_uri": "https://localhost:8080/",
          "height": 300
        },
        "id": "RxjzY7L1nMWy",
        "outputId": "1470ad27-d2f4-48d2-dadd-8eabaf4f2aaa"
      },
      "execution_count": 6,
      "outputs": [
        {
          "output_type": "execute_result",
          "data": {
            "text/plain": [
              "              Open         High          Low        Close    Adj Close  \\\n",
              "count  9083.000000  9083.000000  9083.000000  9083.000000  9083.000000   \n",
              "mean     41.324936    41.760887    40.878488    41.335628    36.256120   \n",
              "std      59.696905    60.272218    59.081728    59.714567    59.981436   \n",
              "min       0.088542     0.092014     0.088542     0.090278     0.057046   \n",
              "25%       4.050781     4.102051     4.027344     4.075195     2.575089   \n",
              "50%      26.820000    27.100000    26.520000    26.840000    18.948530   \n",
              "75%      40.034999    40.443751    39.500000    39.937500    29.244812   \n",
              "max     344.619995   349.670013   342.200012   343.109985   342.402008   \n",
              "\n",
              "             Volume  \n",
              "count  9.083000e+03  \n",
              "mean   5.875055e+07  \n",
              "std    3.845200e+07  \n",
              "min    2.304000e+06  \n",
              "25%    3.461230e+07  \n",
              "50%    5.203200e+07  \n",
              "75%    7.265400e+07  \n",
              "max    1.031789e+09  "
            ],
            "text/html": [
              "\n",
              "  <div id=\"df-53d7940a-d45c-4c8e-b958-6b3a9a78dccc\" class=\"colab-df-container\">\n",
              "    <div>\n",
              "<style scoped>\n",
              "    .dataframe tbody tr th:only-of-type {\n",
              "        vertical-align: middle;\n",
              "    }\n",
              "\n",
              "    .dataframe tbody tr th {\n",
              "        vertical-align: top;\n",
              "    }\n",
              "\n",
              "    .dataframe thead th {\n",
              "        text-align: right;\n",
              "    }\n",
              "</style>\n",
              "<table border=\"1\" class=\"dataframe\">\n",
              "  <thead>\n",
              "    <tr style=\"text-align: right;\">\n",
              "      <th></th>\n",
              "      <th>Open</th>\n",
              "      <th>High</th>\n",
              "      <th>Low</th>\n",
              "      <th>Close</th>\n",
              "      <th>Adj Close</th>\n",
              "      <th>Volume</th>\n",
              "    </tr>\n",
              "  </thead>\n",
              "  <tbody>\n",
              "    <tr>\n",
              "      <th>count</th>\n",
              "      <td>9083.000000</td>\n",
              "      <td>9083.000000</td>\n",
              "      <td>9083.000000</td>\n",
              "      <td>9083.000000</td>\n",
              "      <td>9083.000000</td>\n",
              "      <td>9.083000e+03</td>\n",
              "    </tr>\n",
              "    <tr>\n",
              "      <th>mean</th>\n",
              "      <td>41.324936</td>\n",
              "      <td>41.760887</td>\n",
              "      <td>40.878488</td>\n",
              "      <td>41.335628</td>\n",
              "      <td>36.256120</td>\n",
              "      <td>5.875055e+07</td>\n",
              "    </tr>\n",
              "    <tr>\n",
              "      <th>std</th>\n",
              "      <td>59.696905</td>\n",
              "      <td>60.272218</td>\n",
              "      <td>59.081728</td>\n",
              "      <td>59.714567</td>\n",
              "      <td>59.981436</td>\n",
              "      <td>3.845200e+07</td>\n",
              "    </tr>\n",
              "    <tr>\n",
              "      <th>min</th>\n",
              "      <td>0.088542</td>\n",
              "      <td>0.092014</td>\n",
              "      <td>0.088542</td>\n",
              "      <td>0.090278</td>\n",
              "      <td>0.057046</td>\n",
              "      <td>2.304000e+06</td>\n",
              "    </tr>\n",
              "    <tr>\n",
              "      <th>25%</th>\n",
              "      <td>4.050781</td>\n",
              "      <td>4.102051</td>\n",
              "      <td>4.027344</td>\n",
              "      <td>4.075195</td>\n",
              "      <td>2.575089</td>\n",
              "      <td>3.461230e+07</td>\n",
              "    </tr>\n",
              "    <tr>\n",
              "      <th>50%</th>\n",
              "      <td>26.820000</td>\n",
              "      <td>27.100000</td>\n",
              "      <td>26.520000</td>\n",
              "      <td>26.840000</td>\n",
              "      <td>18.948530</td>\n",
              "      <td>5.203200e+07</td>\n",
              "    </tr>\n",
              "    <tr>\n",
              "      <th>75%</th>\n",
              "      <td>40.034999</td>\n",
              "      <td>40.443751</td>\n",
              "      <td>39.500000</td>\n",
              "      <td>39.937500</td>\n",
              "      <td>29.244812</td>\n",
              "      <td>7.265400e+07</td>\n",
              "    </tr>\n",
              "    <tr>\n",
              "      <th>max</th>\n",
              "      <td>344.619995</td>\n",
              "      <td>349.670013</td>\n",
              "      <td>342.200012</td>\n",
              "      <td>343.109985</td>\n",
              "      <td>342.402008</td>\n",
              "      <td>1.031789e+09</td>\n",
              "    </tr>\n",
              "  </tbody>\n",
              "</table>\n",
              "</div>\n",
              "    <div class=\"colab-df-buttons\">\n",
              "\n",
              "  <div class=\"colab-df-container\">\n",
              "    <button class=\"colab-df-convert\" onclick=\"convertToInteractive('df-53d7940a-d45c-4c8e-b958-6b3a9a78dccc')\"\n",
              "            title=\"Convert this dataframe to an interactive table.\"\n",
              "            style=\"display:none;\">\n",
              "\n",
              "  <svg xmlns=\"http://www.w3.org/2000/svg\" height=\"24px\" viewBox=\"0 -960 960 960\">\n",
              "    <path d=\"M120-120v-720h720v720H120Zm60-500h600v-160H180v160Zm220 220h160v-160H400v160Zm0 220h160v-160H400v160ZM180-400h160v-160H180v160Zm440 0h160v-160H620v160ZM180-180h160v-160H180v160Zm440 0h160v-160H620v160Z\"/>\n",
              "  </svg>\n",
              "    </button>\n",
              "\n",
              "  <style>\n",
              "    .colab-df-container {\n",
              "      display:flex;\n",
              "      gap: 12px;\n",
              "    }\n",
              "\n",
              "    .colab-df-convert {\n",
              "      background-color: #E8F0FE;\n",
              "      border: none;\n",
              "      border-radius: 50%;\n",
              "      cursor: pointer;\n",
              "      display: none;\n",
              "      fill: #1967D2;\n",
              "      height: 32px;\n",
              "      padding: 0 0 0 0;\n",
              "      width: 32px;\n",
              "    }\n",
              "\n",
              "    .colab-df-convert:hover {\n",
              "      background-color: #E2EBFA;\n",
              "      box-shadow: 0px 1px 2px rgba(60, 64, 67, 0.3), 0px 1px 3px 1px rgba(60, 64, 67, 0.15);\n",
              "      fill: #174EA6;\n",
              "    }\n",
              "\n",
              "    .colab-df-buttons div {\n",
              "      margin-bottom: 4px;\n",
              "    }\n",
              "\n",
              "    [theme=dark] .colab-df-convert {\n",
              "      background-color: #3B4455;\n",
              "      fill: #D2E3FC;\n",
              "    }\n",
              "\n",
              "    [theme=dark] .colab-df-convert:hover {\n",
              "      background-color: #434B5C;\n",
              "      box-shadow: 0px 1px 3px 1px rgba(0, 0, 0, 0.15);\n",
              "      filter: drop-shadow(0px 1px 2px rgba(0, 0, 0, 0.3));\n",
              "      fill: #FFFFFF;\n",
              "    }\n",
              "  </style>\n",
              "\n",
              "    <script>\n",
              "      const buttonEl =\n",
              "        document.querySelector('#df-53d7940a-d45c-4c8e-b958-6b3a9a78dccc button.colab-df-convert');\n",
              "      buttonEl.style.display =\n",
              "        google.colab.kernel.accessAllowed ? 'block' : 'none';\n",
              "\n",
              "      async function convertToInteractive(key) {\n",
              "        const element = document.querySelector('#df-53d7940a-d45c-4c8e-b958-6b3a9a78dccc');\n",
              "        const dataTable =\n",
              "          await google.colab.kernel.invokeFunction('convertToInteractive',\n",
              "                                                    [key], {});\n",
              "        if (!dataTable) return;\n",
              "\n",
              "        const docLinkHtml = 'Like what you see? Visit the ' +\n",
              "          '<a target=\"_blank\" href=https://colab.research.google.com/notebooks/data_table.ipynb>data table notebook</a>'\n",
              "          + ' to learn more about interactive tables.';\n",
              "        element.innerHTML = '';\n",
              "        dataTable['output_type'] = 'display_data';\n",
              "        await google.colab.output.renderOutput(dataTable, element);\n",
              "        const docLink = document.createElement('div');\n",
              "        docLink.innerHTML = docLinkHtml;\n",
              "        element.appendChild(docLink);\n",
              "      }\n",
              "    </script>\n",
              "  </div>\n",
              "\n",
              "\n",
              "<div id=\"df-c8251229-a446-4fde-9ce9-7a334fcd9813\">\n",
              "  <button class=\"colab-df-quickchart\" onclick=\"quickchart('df-c8251229-a446-4fde-9ce9-7a334fcd9813')\"\n",
              "            title=\"Suggest charts\"\n",
              "            style=\"display:none;\">\n",
              "\n",
              "<svg xmlns=\"http://www.w3.org/2000/svg\" height=\"24px\"viewBox=\"0 0 24 24\"\n",
              "     width=\"24px\">\n",
              "    <g>\n",
              "        <path d=\"M19 3H5c-1.1 0-2 .9-2 2v14c0 1.1.9 2 2 2h14c1.1 0 2-.9 2-2V5c0-1.1-.9-2-2-2zM9 17H7v-7h2v7zm4 0h-2V7h2v10zm4 0h-2v-4h2v4z\"/>\n",
              "    </g>\n",
              "</svg>\n",
              "  </button>\n",
              "\n",
              "<style>\n",
              "  .colab-df-quickchart {\n",
              "      --bg-color: #E8F0FE;\n",
              "      --fill-color: #1967D2;\n",
              "      --hover-bg-color: #E2EBFA;\n",
              "      --hover-fill-color: #174EA6;\n",
              "      --disabled-fill-color: #AAA;\n",
              "      --disabled-bg-color: #DDD;\n",
              "  }\n",
              "\n",
              "  [theme=dark] .colab-df-quickchart {\n",
              "      --bg-color: #3B4455;\n",
              "      --fill-color: #D2E3FC;\n",
              "      --hover-bg-color: #434B5C;\n",
              "      --hover-fill-color: #FFFFFF;\n",
              "      --disabled-bg-color: #3B4455;\n",
              "      --disabled-fill-color: #666;\n",
              "  }\n",
              "\n",
              "  .colab-df-quickchart {\n",
              "    background-color: var(--bg-color);\n",
              "    border: none;\n",
              "    border-radius: 50%;\n",
              "    cursor: pointer;\n",
              "    display: none;\n",
              "    fill: var(--fill-color);\n",
              "    height: 32px;\n",
              "    padding: 0;\n",
              "    width: 32px;\n",
              "  }\n",
              "\n",
              "  .colab-df-quickchart:hover {\n",
              "    background-color: var(--hover-bg-color);\n",
              "    box-shadow: 0 1px 2px rgba(60, 64, 67, 0.3), 0 1px 3px 1px rgba(60, 64, 67, 0.15);\n",
              "    fill: var(--button-hover-fill-color);\n",
              "  }\n",
              "\n",
              "  .colab-df-quickchart-complete:disabled,\n",
              "  .colab-df-quickchart-complete:disabled:hover {\n",
              "    background-color: var(--disabled-bg-color);\n",
              "    fill: var(--disabled-fill-color);\n",
              "    box-shadow: none;\n",
              "  }\n",
              "\n",
              "  .colab-df-spinner {\n",
              "    border: 2px solid var(--fill-color);\n",
              "    border-color: transparent;\n",
              "    border-bottom-color: var(--fill-color);\n",
              "    animation:\n",
              "      spin 1s steps(1) infinite;\n",
              "  }\n",
              "\n",
              "  @keyframes spin {\n",
              "    0% {\n",
              "      border-color: transparent;\n",
              "      border-bottom-color: var(--fill-color);\n",
              "      border-left-color: var(--fill-color);\n",
              "    }\n",
              "    20% {\n",
              "      border-color: transparent;\n",
              "      border-left-color: var(--fill-color);\n",
              "      border-top-color: var(--fill-color);\n",
              "    }\n",
              "    30% {\n",
              "      border-color: transparent;\n",
              "      border-left-color: var(--fill-color);\n",
              "      border-top-color: var(--fill-color);\n",
              "      border-right-color: var(--fill-color);\n",
              "    }\n",
              "    40% {\n",
              "      border-color: transparent;\n",
              "      border-right-color: var(--fill-color);\n",
              "      border-top-color: var(--fill-color);\n",
              "    }\n",
              "    60% {\n",
              "      border-color: transparent;\n",
              "      border-right-color: var(--fill-color);\n",
              "    }\n",
              "    80% {\n",
              "      border-color: transparent;\n",
              "      border-right-color: var(--fill-color);\n",
              "      border-bottom-color: var(--fill-color);\n",
              "    }\n",
              "    90% {\n",
              "      border-color: transparent;\n",
              "      border-bottom-color: var(--fill-color);\n",
              "    }\n",
              "  }\n",
              "</style>\n",
              "\n",
              "  <script>\n",
              "    async function quickchart(key) {\n",
              "      const quickchartButtonEl =\n",
              "        document.querySelector('#' + key + ' button');\n",
              "      quickchartButtonEl.disabled = true;  // To prevent multiple clicks.\n",
              "      quickchartButtonEl.classList.add('colab-df-spinner');\n",
              "      try {\n",
              "        const charts = await google.colab.kernel.invokeFunction(\n",
              "            'suggestCharts', [key], {});\n",
              "      } catch (error) {\n",
              "        console.error('Error during call to suggestCharts:', error);\n",
              "      }\n",
              "      quickchartButtonEl.classList.remove('colab-df-spinner');\n",
              "      quickchartButtonEl.classList.add('colab-df-quickchart-complete');\n",
              "    }\n",
              "    (() => {\n",
              "      let quickchartButtonEl =\n",
              "        document.querySelector('#df-c8251229-a446-4fde-9ce9-7a334fcd9813 button');\n",
              "      quickchartButtonEl.style.display =\n",
              "        google.colab.kernel.accessAllowed ? 'block' : 'none';\n",
              "    })();\n",
              "  </script>\n",
              "</div>\n",
              "\n",
              "    </div>\n",
              "  </div>\n"
            ],
            "application/vnd.google.colaboratory.intrinsic+json": {
              "type": "dataframe",
              "summary": "{\n  \"name\": \"df\",\n  \"rows\": 8,\n  \"fields\": [\n    {\n      \"column\": \"Open\",\n      \"properties\": {\n        \"dtype\": \"number\",\n        \"std\": 3187.209597837738,\n        \"min\": 0.088542,\n        \"max\": 9083.0,\n        \"num_unique_values\": 8,\n        \"samples\": [\n          41.32493610249918,\n          26.82,\n          9083.0\n        ],\n        \"semantic_type\": \"\",\n        \"description\": \"\"\n      }\n    },\n    {\n      \"column\": \"High\",\n      \"properties\": {\n        \"dtype\": \"number\",\n        \"std\": 3186.9254853836565,\n        \"min\": 0.092014,\n        \"max\": 9083.0,\n        \"num_unique_values\": 8,\n        \"samples\": [\n          41.76088690047341,\n          27.1,\n          9083.0\n        ],\n        \"semantic_type\": \"\",\n        \"description\": \"\"\n      }\n    },\n    {\n      \"column\": \"Low\",\n      \"properties\": {\n        \"dtype\": \"number\",\n        \"std\": 3187.401940161032,\n        \"min\": 0.088542,\n        \"max\": 9083.0,\n        \"num_unique_values\": 8,\n        \"samples\": [\n          40.87848842618078,\n          26.52,\n          9083.0\n        ],\n        \"semantic_type\": \"\",\n        \"description\": \"\"\n      }\n    },\n    {\n      \"column\": \"Close\",\n      \"properties\": {\n        \"dtype\": \"number\",\n        \"std\": 3187.268689978208,\n        \"min\": 0.090278,\n        \"max\": 9083.0,\n        \"num_unique_values\": 8,\n        \"samples\": [\n          41.335627591654735,\n          26.84,\n          9083.0\n        ],\n        \"semantic_type\": \"\",\n        \"description\": \"\"\n      }\n    },\n    {\n      \"column\": \"Adj Close\",\n      \"properties\": {\n        \"dtype\": \"number\",\n        \"std\": 3188.6013612124684,\n        \"min\": 0.057046,\n        \"max\": 9083.0,\n        \"num_unique_values\": 8,\n        \"samples\": [\n          36.25612049488055,\n          18.94853,\n          9083.0\n        ],\n        \"semantic_type\": \"\",\n        \"description\": \"\"\n      }\n    },\n    {\n      \"column\": \"Volume\",\n      \"properties\": {\n        \"dtype\": \"number\",\n        \"std\": 352643210.38124174,\n        \"min\": 9083.0,\n        \"max\": 1031788800.0,\n        \"num_unique_values\": 8,\n        \"samples\": [\n          58750553.83683805,\n          52032000.0,\n          9083.0\n        ],\n        \"semantic_type\": \"\",\n        \"description\": \"\"\n      }\n    }\n  ]\n}"
            }
          },
          "metadata": {},
          "execution_count": 6
        }
      ]
    },
    {
      "cell_type": "code",
      "source": [
        "df.shape"
      ],
      "metadata": {
        "colab": {
          "base_uri": "https://localhost:8080/"
        },
        "id": "u6UY-xUMnQ8l",
        "outputId": "c9741fb0-8e5e-4a57-dcce-514509ab88ac"
      },
      "execution_count": 7,
      "outputs": [
        {
          "output_type": "execute_result",
          "data": {
            "text/plain": [
              "(9083, 7)"
            ]
          },
          "metadata": {},
          "execution_count": 7
        }
      ]
    },
    {
      "cell_type": "code",
      "source": [
        "df.duplicated().sum()"
      ],
      "metadata": {
        "colab": {
          "base_uri": "https://localhost:8080/"
        },
        "id": "IJBD7rBOnTDp",
        "outputId": "47e15758-37df-4224-f692-0e793788cd87"
      },
      "execution_count": 8,
      "outputs": [
        {
          "output_type": "execute_result",
          "data": {
            "text/plain": [
              "0"
            ]
          },
          "metadata": {},
          "execution_count": 8
        }
      ]
    },
    {
      "cell_type": "markdown",
      "source": [
        "#Visualize the closing prices #"
      ],
      "metadata": {
        "id": "89Bh1dUmngfL"
      }
    },
    {
      "cell_type": "code",
      "source": [
        "plt.figure(figsize=(16,8))\n",
        "plt.title(\"Closing price of Stock\")\n",
        "plt.plot(df[\"Close\"])\n",
        "plt.xlabel(\"Data\")\n",
        "plt.ylabel(\"Closing Price\")\n",
        "plt.show()"
      ],
      "metadata": {
        "colab": {
          "base_uri": "https://localhost:8080/",
          "height": 580
        },
        "id": "XSLwLE3pnex3",
        "outputId": "92a910e5-ce27-4c26-a4fb-78f83ce044a0"
      },
      "execution_count": 9,
      "outputs": [
        {
          "output_type": "display_data",
          "data": {
            "text/plain": [
              "<Figure size 1600x800 with 1 Axes>"
            ],
            "image/png": "[encoded data removed]"
          },
          "metadata": {}
        }
      ]
    },
    {
      "cell_type": "code",
      "source": [
        "data=df.filter([\"Close\"])\n",
        "dataset=data.values\n",
        "traning_data_len = math.ceil(len(dataset)*0.8)\n",
        "traning_data_len"
      ],
      "metadata": {
        "colab": {
          "base_uri": "https://localhost:8080/"
        },
        "id": "oVyv1WdLoZcZ",
        "outputId": "6be11190-0b02-402a-f978-2a670e9a2331"
      },
      "execution_count": 10,
      "outputs": [
        {
          "output_type": "execute_result",
          "data": {
            "text/plain": [
              "7267"
            ]
          },
          "metadata": {},
          "execution_count": 10
        }
      ]
    },
    {
      "cell_type": "markdown",
      "source": [
        "هذا الكود يقوم بإجراء عمليات على البيانات باستخدام مكتبة Pandas و NumPy. دعني أشرح الخطوات بالتفصيل:\n",
        "\n",
        "1. `data=df.filter([\"Close\"])`: هذا السطر يقوم بتحديد البيانات المتاحة في العمود \"Close\" من DataFrame الذي يُعرف باسم `df`. يتم استخدام `filter()` لتحديد العمود المحدد.\n",
        "\n",
        "2. `dataset=data.values`: هنا يتم تحويل البيانات التي تمت تحديدها في الخطوط السابقة إلى قائمة NumPy باستخدام الأمر `values`، لذلك الآن `dataset` يحتوي على قائمة بالقيم في العمود \"Close\".\n",
        "\n",
        "3. `traning_data_len = math.ceil(len(dataset)*0.8)`: يتم هنا حساب عدد البيانات التي سيتم استخدامها في عملية التدريب. يتم ذلك بحساب 80% من طول البيانات الإجمالي وتقريب النتيجة إلى الأعلى باستخدام `math.ceil()`، وهذا العدد يُخزن في متغير يُسمى `traning_data_len`.\n",
        "\n",
        "4. `traning_data_len`: هذا السطر يقوم بطباعة قيمة `traning_data_len`، والتي تمثل عدد البيانات التي ستُستخدم في عملية التدريب.\n",
        "\n",
        "هذه الخطوات تمثل جزءاً من عملية تحضير البيانات لاستخدامها في عمليات التدريب أو التحليل أو الاستكشاف في علوم البيانات وتعلم الآلة."
      ],
      "metadata": {
        "id": "KR-o6ORuvjc7"
      }
    },
    {
      "cell_type": "code",
      "source": [
        "#scale the data\n",
        "scaler=StandardScaler()\n",
        "scaled_data=scaler.fit_transform(dataset)\n",
        "print(\"MEAN of processed data: \",scaled_data.mean())\n",
        "print(\"Standard deviation of processed data: \",scaled_data.std())"
      ],
      "metadata": {
        "colab": {
          "base_uri": "https://localhost:8080/"
        },
        "id": "XJZ6DdVApIqc",
        "outputId": "0f5b5bf5-bad6-446a-86b6-98296183992c"
      },
      "execution_count": 11,
      "outputs": [
        {
          "output_type": "stream",
          "name": "stdout",
          "text": [
            "MEAN of processed data:  1.0013153162753806e-16\n",
            "Standard deviation of processed data:  1.0\n"
          ]
        }
      ]
    },
    {
      "cell_type": "markdown",
      "source": [
        "print(\"MEAN of processed data: \",scaled_data.mean()): يتم طباعة متوسط البيانات المعالجة بعد التحويل. يتم الحصول على هذا الرقم باستخدام الأمر mean() على البيانات المعالجة (scaled_data).\n",
        "\n",
        "print(\"Standard deviation of processed data: \",scaled_data.std()): يتم طباعة الانحراف المعياري للبيانات المعالجة بعد التحويل. يتم الحصول على هذا الرقم باستخدام الأمر std() على البيانات المعالجة (scaled_data).\n",
        "\n",
        "هذه الخطوات تهدف إلى تحويل البيانات إلى توزيع معين (متوسط معين وانحراف معياري معين)، وهو يساعد في تحسين أداء بعض الخوارزميات والنماذج التحليلية والتنبؤية في تعلم الآلة وعلوم البيانات."
      ],
      "metadata": {
        "id": "53RNNnehv5eB"
      }
    },
    {
      "cell_type": "code",
      "source": [
        "scaled_data"
      ],
      "metadata": {
        "colab": {
          "base_uri": "https://localhost:8080/"
        },
        "id": "DLeh3QQeps11",
        "outputId": "8830550a-defd-4c4f-a6c1-d051ccdba880"
      },
      "execution_count": 12,
      "outputs": [
        {
          "output_type": "execute_result",
          "data": {
            "text/plain": [
              "array([[-0.69063008],\n",
              "       [-0.69057193],\n",
              "       [-0.69054284],\n",
              "       ...,\n",
              "       [ 4.39991192],\n",
              "       [ 4.32337683],\n",
              "       [ 4.40058194]])"
            ]
          },
          "metadata": {},
          "execution_count": 12
        }
      ]
    },
    {
      "cell_type": "code",
      "source": [
        "#create the training data\n",
        "#create scaled training dataset\n",
        "train_data = scaled_data[0:traning_data_len, :]\n",
        "#split the data to x_train and y_train\n",
        "x_train=[]\n",
        "y_train=[]\n",
        "for i in range(60,len(train_data)):\n",
        "  x_train.append(train_data[i-60:i])\n",
        "  y_train.append(train_data[i])"
      ],
      "metadata": {
        "id": "oK2nHtwwp3yW"
      },
      "execution_count": 13,
      "outputs": []
    },
    {
      "cell_type": "markdown",
      "source": [
        "هذا الكود يقوم بإنشاء مجموعة البيانات التدريبية بعد تحويل البيانات وتقسيمها إلى مجموعات `x_train` و `y_train` التي يمكن استخدامها لتدريب نموذج التنبؤ. سأقدم شرحًا للخطوات:\n",
        "\n",
        "1. `train_data = scaled_data[0:traning_data_len, :]`: يتم استخدام البيانات المقيّسة (`scaled_data`) لإنشاء مجموعة بيانات التدريب. يتم تحديد هذه المجموعة بواسطة تقسيم `scaled_data` من الصفر إلى `traning_data_len`، وذلك لاستخدام جزء معين من البيانات للتدريب.\n",
        "\n",
        "2. `x_train=[]` و `y_train=[]`: يتم إنشاء قوائم فارغة لتخزين البيانات التي ستستخدم كمدخلات (`x_train`) والبيانات التي ستستخدم كمخرجات (`y_train`).\n",
        "\n",
        "3. الحلقة `for i in range(60,len(train_data)):` تقوم بتكرار عملية إنشاء مجموعات `x_train` و `y_train` لكل نقطة بيانات في مجموعة البيانات التدريبية. يبدأ الفهرس `i` من 60، لأنه يستخدم 60 نقطة بيانات لتشكيل كل مدخلة في `x_train`.\n",
        "\n",
        "4. `x_train.append(train_data[i-60:i])`: يتم إضافة مجموعة البيانات المؤلفة من الـ 60 نقطة السابقة كقيمة لقائمة `x_train`.\n",
        "\n",
        "5. `y_train.append(train_data[i])`: يتم إضافة البيانات التالية لمجموعة البيانات المؤلفة من الـ 60 نقطة كقيمة لقائمة `y_train`. هذه البيانات هي التي يجب أن يتنبأ النموذج بها.\n",
        "\n",
        "بعد هذه الخطوات، ستكون لديك مجموعات `x_train` و `y_train` التي يمكن استخدامها لتدريب نموذج التنبؤ. كل قيمة في `x_train` تحتوي على سلسلة زمنية من البيانات، بينما كل قيمة في `y_train` تمثل البيانات التي يجب على النموذج التنبؤ بها بناءً على البيانات الموجودة في المدخلات المقابلة في `x_train`."
      ],
      "metadata": {
        "id": "YALOS-jtv9Fj"
      }
    },
    {
      "cell_type": "code",
      "source": [
        "x_train,y_train=np.array(x_train),np.array(y_train)\n",
        "x_train.shape"
      ],
      "metadata": {
        "colab": {
          "base_uri": "https://localhost:8080/"
        },
        "id": "pBRXGB0zqlvF",
        "outputId": "f79b7045-641b-4479-ab1a-1564bc03838b"
      },
      "execution_count": 14,
      "outputs": [
        {
          "output_type": "execute_result",
          "data": {
            "text/plain": [
              "(7207, 60, 1)"
            ]
          },
          "metadata": {},
          "execution_count": 14
        }
      ]
    },
    {
      "cell_type": "code",
      "source": [
        "#reshape the data\n",
        "print(\"x_train shape before reshaping\",x_train.shape)\n",
        "x_train = np.reshape(x_train,(x_train.shape[0],x_train.shape[1],1)) #np.reshape(x_train,(x_train.shape[0],x_train.shape[1],1))\n",
        "print(\"x_train shape after reshaping\",x_train.shape)"
      ],
      "metadata": {
        "colab": {
          "base_uri": "https://localhost:8080/"
        },
        "id": "Poiu6fqKqp8F",
        "outputId": "5a1d7053-36ba-40da-a0c2-5939f4f03dec"
      },
      "execution_count": 15,
      "outputs": [
        {
          "output_type": "stream",
          "name": "stdout",
          "text": [
            "x_train shape before reshaping (7207, 60, 1)\n",
            "x_train shape after reshaping (7207, 60, 1)\n"
          ]
        }
      ]
    },
    {
      "cell_type": "markdown",
      "source": [
        "الكود الذي وضعته يقوم بإعادة تشكيل بيانات التدريب `x_train` لضمان توافقها مع تنسيق البيانات المقبول من قبل طبقات الشبكات العصبية العميقة مثل LSTM في Keras.\n",
        "\n",
        "دعوني أشرح الخطوات:\n",
        "\n",
        "1. `x_train = np.reshape(x_train,(x_train.shape[0],x_train.shape[1],1))`: يتم استخدام الدالة `reshape()` من NumPy لإعادة تشكيل بيانات التدريب `x_train`. الأبعاد الجديدة هي `(x_train.shape[0], x_train.shape[1], 1)`، حيث يمثل `x_train.shape[0]` عدد العينات (الصفوف)، و `x_train.shape[1]` هو عدد الأيام/الخطوط في كل مجموعة، و `1` هو عمق البيانات (في هذه الحالة سيكون لدينا قيمة واحدة لكل نقطة).\n",
        "\n",
        "2. `print(\"x_train shape after reshaping\",x_train.shape)`: يتم طباعة شكل بيانات التدريب بعد إعادة التشكيل. هذا يُظهر التغيير في الشكل بعد عملية إعادة التشكيل.\n",
        "\n",
        "بعد هذه الخطوات، ستكون لديك بيانات التدريب `x_train` معروضة بالشكل الصحيح لاستخدامها في شبكات LSTM أو RNN أخرى في Keras."
      ],
      "metadata": {
        "id": "jYxz7cKrwY5x"
      }
    },
    {
      "cell_type": "code",
      "source": [
        "#build LSTM model\n",
        "model= Sequential()\n",
        "model.add(LSTM(200,return_sequences=True,input_shape=(x_train.shape[1], 1)))\n",
        "model.add(LSTM(200,return_sequences=False))\n",
        "model.add(Dense(100))\n",
        "model.add(Dense(50))\n",
        "model.add(Dense(1))"
      ],
      "metadata": {
        "id": "mXSq_RL4qxZ7"
      },
      "execution_count": 16,
      "outputs": []
    },
    {
      "cell_type": "markdown",
      "source": [
        "هذا الكود يقوم ببناء نموذج LSTM باستخدام مكتبة Keras. دعوني أشرح كل خطوة:\n",
        "\n",
        "1. `model= Sequential()`: يقوم بإنشاء مثيل لنموذج Sequential. Sequential هو نموذج في Keras يمكن استخدامه لبناء نماذج تتكون من طبقات متتالية.\n",
        "\n",
        "2. `model.add(LSTM(200,return_sequences=True,input_shape=(x_train.shape[1], 1)))`: يتم إضافة طبقة LSTM إلى النموذج. تحتوي هذه الطبقة على 200 وحدة LSTM وتُعيد سلاسل البيانات (`return_sequences=True`)، كما أنها تأخذ شكل البيانات كإدخال (`input_shape=(x_train.shape[1], 1)`).\n",
        "\n",
        "3. `model.add(LSTM(200,return_sequences=False))`: يتم إضافة طبقة LSTM أخرى إلى النموذج. تحتوي هذه الطبقة أيضًا على 200 وحدة LSTM ولكنها لا تُعيد سلاسل البيانات (`return_sequences=False`)، وهذا يعني أنها تُستخدم كطبقة LSTM أخيرة في النموذج.\n",
        "\n",
        "4. `model.add(Dense(100))`: يتم إضافة طبقة متصلة (Dense) مع 100 وحدة.\n",
        "\n",
        "5. `model.add(Dense(50))`: يتم إضافة طبقة متصلة (Dense) أخرى مع 50 وحدة.\n",
        "\n",
        "6. `model.add(Dense(1))`: يتم إضافة طبقة متصلة (Dense) أخيرة مع وحدة واحدة، وهذه الطبقة تُستخدم لإنتاج الناتج النهائي.\n",
        "\n",
        "باستخدام هذه الطبقات، يتم بناء نموذج LSTM المكوّن من طبقتين LSTM تُعيد سلاسل البيانات، وطبقات متصلة (Dense) لإضافة قواميس تعلمية على النموذج، والطبقة النهائية التي تُنتج الناتج المتوقع."
      ],
      "metadata": {
        "id": "YwNk8ES_wnat"
      }
    },
    {
      "cell_type": "code",
      "source": [
        "#compile the model\n",
        "model.compile(optimizer='adam',loss='mean_squared_error')"
      ],
      "metadata": {
        "id": "IGFSmW-dq-rr"
      },
      "execution_count": 17,
      "outputs": []
    },
    {
      "cell_type": "code",
      "source": [
        "model.summary()"
      ],
      "metadata": {
        "colab": {
          "base_uri": "https://localhost:8080/"
        },
        "id": "hOwv044irAp7",
        "outputId": "3c315c7d-b0c8-44ef-c65a-b4a6b92aa355"
      },
      "execution_count": 18,
      "outputs": [
        {
          "output_type": "stream",
          "name": "stdout",
          "text": [
            "Model: \"sequential\"\n",
            "_________________________________________________________________\n",
            " Layer (type)                Output Shape              Param #   \n",
            "=================================================================\n",
            " lstm (LSTM)                 (None, 60, 200)           161600    \n",
            "                                                                 \n",
            " lstm_1 (LSTM)               (None, 200)               320800    \n",
            "                                                                 \n",
            " dense (Dense)               (None, 100)               20100     \n",
            "                                                                 \n",
            " dense_1 (Dense)             (None, 50)                5050      \n",
            "                                                                 \n",
            " dense_2 (Dense)             (None, 1)                 51        \n",
            "                                                                 \n",
            "=================================================================\n",
            "Total params: 507601 (1.94 MB)\n",
            "Trainable params: 507601 (1.94 MB)\n",
            "Non-trainable params: 0 (0.00 Byte)\n",
            "_________________________________________________________________\n"
          ]
        }
      ]
    },
    {
      "cell_type": "code",
      "source": [
        "#train the model\n",
        "history = model.fit(x_train,y_train,epochs=5)"
      ],
      "metadata": {
        "colab": {
          "base_uri": "https://localhost:8080/"
        },
        "id": "m2Higj8hrCFL",
        "outputId": "7ff7542e-c369-4f6e-d296-78cef6be5e2d"
      },
      "execution_count": 19,
      "outputs": [
        {
          "output_type": "stream",
          "name": "stdout",
          "text": [
            "Epoch 1/5\n",
            "226/226 [==============================] - 13s 19ms/step - loss: 0.0024\n",
            "Epoch 2/5\n",
            "226/226 [==============================] - 3s 15ms/step - loss: 2.2242e-04\n",
            "Epoch 3/5\n",
            "226/226 [==============================] - 4s 16ms/step - loss: 2.0058e-04\n",
            "Epoch 4/5\n",
            "226/226 [==============================] - 4s 16ms/step - loss: 1.9318e-04\n",
            "Epoch 5/5\n",
            "226/226 [==============================] - 4s 16ms/step - loss: 2.0334e-04\n"
          ]
        }
      ]
    },
    {
      "cell_type": "code",
      "source": [
        "plt.plot(history.history['loss'])"
      ],
      "metadata": {
        "colab": {
          "base_uri": "https://localhost:8080/",
          "height": 467
        },
        "id": "AbMFBph2rGMG",
        "outputId": "f2c73097-c8c2-4138-bac2-9bb3e0301c77"
      },
      "execution_count": 20,
      "outputs": [
        {
          "output_type": "execute_result",
          "data": {
            "text/plain": [
              "[<matplotlib.lines.Line2D at 0x7bfc70109060>]"
            ]
          },
          "metadata": {},
          "execution_count": 20
        },
        {
          "output_type": "display_data",
          "data": {
            "text/plain": [
              "<Figure size 640x480 with 1 Axes>"
            ],
            "image/png": "[encoded data removed]"
          },
          "metadata": {}
        }
      ]
    },
    {
      "cell_type": "code",
      "source": [
        "#create the testing dataset\n",
        "#createt new array\n",
        "test_data=scaled_data[traning_data_len-60:, :]\n",
        "#create the dataset x_test and y_test\n",
        "x_test=[]\n",
        "y_test=dataset[traning_data_len: , :]\n",
        "for i in range(60,len(test_data)):\n",
        "  x_test.append(test_data[i-60:i, 0])"
      ],
      "metadata": {
        "id": "A3AAXPERrIK8"
      },
      "execution_count": 21,
      "outputs": []
    },
    {
      "cell_type": "markdown",
      "source": [
        "في هذا الكود، يتم إنشاء مجموعة بيانات الاختبار بناءً على البيانات المقيّسة. سأشرح الخطوات بالتفصيل:\n",
        "\n",
        "1. `test_data=scaled_data[traning_data_len-60:, :]`: يتم إنشاء مجموعة بيانات الاختبار باستخدام البيانات المقيّسة. تبدأ مجموعة البيانات الاختبارية من الفهرس `traning_data_len - 60` وتمتد حتى نهاية البيانات.\n",
        "\n",
        "2. `x_test=[]` و `y_test=dataset[traning_data_len: , :]`: يتم إنشاء قوائم فارغة لتخزين مدخلات الاختبار (`x_test`) والمخرجات المتوقعة (`y_test`). المخرجات `y_test` تكون مستندة إلى القيم الفعلية في البيانات غير المقيّسة (`dataset`) لاحقًا.\n",
        "\n",
        "3. الحلقة `for i in range(60,len(test_data)):` تقوم بتكرار عملية إنشاء مجموعات `x_test` و `y_test` لكل نقطة بيانات في مجموعة البيانات الاختبارية. تبدأ الفهرس `i` من 60، لأنه يستخدم 60 نقطة بيانات لتشكيل كل مدخلة في `x_test`.\n",
        "\n",
        "4. `x_test.append(test_data[i-60:i, 0])`: يتم إضافة مجموعة البيانات المؤلفة من الـ 60 نقطة السابقة كقيمة لقائمة `x_test`. الفهرس `0` يُستخدم للوصول إلى العمود الأول (العمود \"Close\") من `test_data`.\n",
        "\n",
        "بعد تنفيذ هذه الخطوات، ستحصل على مجموعات `x_test` و `y_test` التي يمكن استخدامها لاختبار الأداء لنموذجك بعد التدريب. تحتوي `x_test` على سلاسل زمنية من البيانات التي يمكن استخدامها كمدخلات لنموذجك، بينما تحتوي `y_test` على القيم الحقيقية التي يجب أن يتنبأ بها النموذج."
      ],
      "metadata": {
        "id": "UZ1n1tSbw8wY"
      }
    },
    {
      "cell_type": "code",
      "source": [
        "#convert the data to numpy\n",
        "x_test=np.array(x_test)"
      ],
      "metadata": {
        "id": "qydSkXKLrRFi"
      },
      "execution_count": 22,
      "outputs": []
    },
    {
      "cell_type": "code",
      "source": [
        "#reshape the data\n",
        "x_test=np.reshape(x_test,(x_test.shape[0],x_test.shape[1],1))"
      ],
      "metadata": {
        "id": "g0uSGlEjrURu"
      },
      "execution_count": 23,
      "outputs": []
    },
    {
      "cell_type": "code",
      "source": [
        "#get the model predicted value\n",
        "predictions =model.predict(x_test)\n",
        "predictions=scaler.inverse_transform(predictions)\n",
        "print(predictions)"
      ],
      "metadata": {
        "colab": {
          "base_uri": "https://localhost:8080/"
        },
        "id": "CLkIyJokrRmW",
        "outputId": "b4884835-3541-4720-e1cb-211e1d5575ee"
      },
      "execution_count": 24,
      "outputs": [
        {
          "output_type": "stream",
          "name": "stdout",
          "text": [
            "57/57 [==============================] - 1s 6ms/step\n",
            "[[ 46.1506 ]\n",
            " [ 46.23816]\n",
            " [ 46.42601]\n",
            " ...\n",
            " [270.88666]\n",
            " [274.55856]\n",
            " [276.80005]]\n"
          ]
        }
      ]
    },
    {
      "cell_type": "markdown",
      "source": [
        "هذا الكود يقوم بتنفيذ توقعات النموذج على مجموعة البيانات الاختبارية (`x_test`) ويقوم بتحويل القيم المقيّسة للتنبؤات إلى قيم غير مقيّسة باستخدام المقياس العكسي. سأقوم بشرح الخطوات:\n",
        "\n",
        "1. `predictions = model.predict(x_test)`: يتم استخدام النموذج المدرب لتوقع القيم المستقبلية باستخدام بيانات الاختبار `x_test`. النتيجة هي مصفوفة من التنبؤات.\n",
        "\n",
        "2. `predictions=scaler.inverse_transform(predictions)`: بعد الحصول على التنبؤات بالقيم المقيّسة، يتم استخدام المقياس العكسي (`inverse_transform`) لتحويل هذه التنبؤات إلى قيم غير مقيّسة.\n",
        "\n",
        "3. `print(predictions)`: يتم طباعة التنبؤات النهائية، والتي تمثل القيم الغير مقيّسة المتوقعة من النموذج للبيانات الاختبارية.\n",
        "\n",
        "بهذه الطريقة، يمكنك الحصول على التنبؤات النهائية للبيانات الاختبارية باستخدام النموذج المدرب، وتحويل القيم المقيّسة إلى قيم غير مقيّسة لسهولة فهم النتائج والمقارنة مع القيم الفعلية."
      ],
      "metadata": {
        "id": "KU480EpuxLq1"
      }
    }
  ]
}